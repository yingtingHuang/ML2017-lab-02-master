{
 "cells": [
  {
   "cell_type": "code",
   "execution_count": 13,
   "metadata": {
    "collapsed": true
   },
   "outputs": [],
   "source": [
    "import numpy as np\n",
    "import  random  \n",
    "import matplotlib.pyplot as plt\n",
    "from sklearn.externals.joblib import Memory\n",
    "from sklearn.datasets import load_svmlight_file\n",
    "from sklearn.model_selection import train_test_split"
   ]
  },
  {
   "cell_type": "code",
   "execution_count": 14,
   "metadata": {
    "collapsed": true
   },
   "outputs": [],
   "source": [
    "# Load the experiment data\n",
    "mem = Memory(\"./mycache\")\n",
    "\n",
    "@mem.cache\n",
    "def get_data(path,feature):\n",
    "    data = load_svmlight_file(path,feature)    \n",
    "    return data"
   ]
  },
  {
   "cell_type": "code",
   "execution_count": 15,
   "metadata": {
    "collapsed": true
   },
   "outputs": [],
   "source": [
    "def predict(W , X, y ,threshold):\n",
    "    \"\"\"\n",
    "    Inputs:\n",
    "    - W: A numpy array of shape (D, C) containing weights.\n",
    "    - x: A numpy array of shape (N, D) containing a minibatch of training data.\n",
    "    - y: A numpy array of shape (N,) containing training labels; ytrain[i] = c means that xtrain[i] has label c, where 0 <= c <C.\n",
    "    - threshold: mark the sample whose predict scores greater than the threshold as positive, on the contrary as negative.\n",
    "    \n",
    "    Returns a tuple of:\n",
    "    - prediction of y\n",
    "    - accuracy of the model\n",
    "    \"\"\"   \n",
    "    z= np.dot(W.T ,X)\n",
    "    temp= 1./(1+np.exp( -z))\n",
    "    y_pred=np.zeros(temp.shape)\n",
    "    y_pred[temp> threshold]=1;\n",
    "    y_pred[temp<=threshold]=0;\n",
    "    cmp=y_pred==y\n",
    "    accuracy=len(cmp[cmp==True])/y.shape[1]\n",
    "    return y_pred,accuracy "
   ]
  },
  {
   "cell_type": "markdown",
   "metadata": {},
   "source": [
    "Loss Function:\n",
    "$$ L(a,y)= - \\frac{1}{N}(\\quad y log a+(1-y) log(1-a) \\quad)$$\n",
    "where\n",
    "$$\\hat{y}=a=\\sigma (z) =\\frac{1}{1+e^{-z}}$$\n",
    "\n",
    "$$ z=W^TX$$\n",
    "\n",
    "Gradient Matrix:\n",
    "$$ \\frac{\\partial L}{\\partial a}=-\\frac{y}{a}+\\frac{1-y}{1-a}$$\n",
    "\n",
    "$$ \\frac{\\partial L}{\\partial z}=\\frac{\\partial L}{\\partial a}\\frac{\\partial a}{\\partial z}=a-y$$\n",
    "\n",
    "$$ \\frac{\\partial L}{\\partial W}=\\frac{\\partial L}{\\partial z}\\frac{\\partial z}{\\partial W}=X(a-y)^T$$"
   ]
  },
  {
   "cell_type": "code",
   "execution_count": 16,
   "metadata": {
    "collapsed": true
   },
   "outputs": [],
   "source": [
    "def logisticRegression(W ,xtrain, ytrain, xtest ,ytest):\n",
    "  \"\"\"\n",
    "  Inputs:\n",
    "  - W: A numpytrain arraytrain of shape (D_in, D_out) containing weights.\n",
    "  - xtrain: A numpytrain arraytrain of shape (D_in,trainNum) containing a minibatch of training data.\n",
    "  - ytrain: A numpytrain arraytrain of shape (D_out,trainNum) containing training labels;\n",
    "  - xtest: A numpytrain arraytrain of shape (D_in,testNum) containing a minibatch of test data.\n",
    "  - ytest: A numpytrain arraytrain of shape (D_out,testNum) containing test labels;\n",
    "  \n",
    "  Returns a tuple of:\n",
    "  - train loss as single float\n",
    "  - test  loss as single float\n",
    "  - gradient with respect to weights W; an arraytrain of same shape as W\n",
    "  \"\"\"\n",
    "  \n",
    "  N = xtrain.shape[1]\n",
    "  gradNum=10\n",
    "  ind=random.sample(range(0,N),gradNum)  \n",
    "  xtrain_batch=xtrain[:,ind]\n",
    "  ytrain_batch=ytrain[:,ind]\n",
    "  \n",
    "  train_loss = 0\n",
    "  test_loss =0\n",
    "  # initialize the gradient as zero \n",
    "  dW = np.zeros(W.shape)  \n",
    "  z_train= np.dot(W.T ,xtrain)\n",
    "  a_train= 1./(1+np.exp( -z_train))\n",
    "  a_train_batch=a_train[:,ind]\n",
    "  z_test= np.dot(W.T ,xtest)\n",
    "  a_test= 1./(1+np.exp( -z_test))\n",
    "\n",
    "  #logisticRegression Loss\n",
    "  train_loss= -1/N *(np.dot(np.log(a_train),ytrain.T)+np.dot(np.log(1.0-a_train),(1-ytrain).T))\n",
    "  test_loss=-1/N *(np.dot(np.log(a_test),ytest.T)+np.dot(np.log(1.0-a_test),(1-ytest).T))\n",
    "\n",
    "  #loss = -1/N *(np.dot(np.log(a),ytrain.T)+np.dot(np.log(1.0-a),(1-ytrain).T))\n",
    "  dz = a_train_batch-ytrain_batch\n",
    "  dW = 1/N * np.dot(xtrain_batch, dz.T) # D_in bytrain D_out\n",
    "    \n",
    "  return train_loss, test_loss, dW"
   ]
  },
  {
   "cell_type": "code",
   "execution_count": 17,
   "metadata": {
    "collapsed": true
   },
   "outputs": [],
   "source": [
    "# Data preparation  \n",
    "data = get_data(path=\"D:\\研一\\课件\\深度学习\\libsvm-3.22\\A9a_trainingData\",feature=123)\n",
    "\n",
    "# Data preprocessing\n",
    "x_train=data[0].toarray()\n",
    "x_train=np.column_stack((x_train,np.ones([x_train.shape[0],1]))) #add bias \n",
    "x_train=x_train.T\n",
    "y_train=data[1]\n",
    "y_train=y_train.reshape(1,len(y_train)) \n",
    "y_train=y_train.astype(np.int)  # float->int\n",
    "y_train[y_train== -1]=0\n",
    "D_in, N =x_train.shape\n",
    "D_out = y_train.shape[0]\n",
    "\n",
    "# Data preparation  \n",
    "data = get_data(path=\"D:\\研一\\课件\\深度学习\\libsvm-3.22\\A9a_testData\",feature=123)\n",
    "\n",
    "# Data preprocessing\n",
    "x_test=data[0].toarray()\n",
    "x_test=np.column_stack((x_test,np.ones([x_test.shape[0],1]))) #add bias \n",
    "x_test=x_test.T\n",
    "y_test=data[1]\n",
    "y_test=y_test.reshape(1,len(y_test)) \n",
    "y_test=y_test.astype(np.int)  # float->int\n",
    "y_test[y_test== -1]=0"
   ]
  },
  {
   "cell_type": "code",
   "execution_count": 18,
   "metadata": {
    "collapsed": true
   },
   "outputs": [],
   "source": [
    "# Initialize parameter   \n",
    "maxIterations=10000\n",
    "eta = 0.05 # learning rate\n",
    "threshold=0.5 # mark the sample whose predict scores greater than the threshold as positive, on the contrary as negative."
   ]
  },
  {
   "cell_type": "markdown",
   "metadata": {},
   "source": [
    "NAG :\n",
    "$$d_{t}=\\gamma * d_{t-1} + g_{t-1} + \\gamma * (g_{t-1}-g_{t-2}) $$\n",
    "\n",
    "$$ \\Delta W= -\\eta*d_t$$\n",
    "\n",
    "$$ W_t=W_{t-1}+ \\Delta W$$"
   ]
  },
  {
   "cell_type": "code",
   "execution_count": 19,
   "metadata": {
    "collapsed": true
   },
   "outputs": [],
   "source": [
    "# NAG\n",
    "# Initialize parameter   \n",
    "W = np.zeros((D_in, D_out)) # weights\n",
    "pre_d = np.zeros_like(W)\n",
    "pre_grad = np.zeros_like(W)\n",
    "gamma =0.9 # momentum factor \n",
    "L_NAG =[]; # validation loss\n",
    "for t in range(maxIterations):\n",
    "    \n",
    "    # Compute loss\n",
    "    train_loss,test_loss ,grad =logisticRegression(W, x_train, y_train, x_test, y_test)\n",
    "    \n",
    "    # Save the values\n",
    "    L_NAG.append ( test_loss)\n",
    "    \n",
    "    # Update weights using Nesterov Accelerated Gradient(NAG)\n",
    "    d  = gamma * pre_d  + grad + gamma * (grad - pre_grad)\n",
    "    dW = -eta * d\n",
    "    W += dW \n",
    "    pre_d = d\n",
    "    pre_grad = grad\n",
    "    \n",
    "L_NAG=np.array(L_NAG)\n",
    "L_NAG=L_NAG[:,:,0]\n",
    "y_pred_NAG_train,training_accuracy_NAG =predict(W , x_train, y_train ,threshold)\n",
    "y_pred_NAG_test,test_accuracy_NAG=predict(W , x_test, y_test ,threshold)"
   ]
  },
  {
   "cell_type": "markdown",
   "metadata": {},
   "source": [
    "RMSProp :\n",
    "$$n_{t}=\\gamma * n_{t-1} + (1- \\gamma ) * g^2_t $$\n",
    "\n",
    "$$ \\Delta W= \\frac {-\\eta}{\\sqrt{n_t+\\epsilon}}*g_t$$\n",
    "\n",
    "$$ W=W+\\Delta W$$"
   ]
  },
  {
   "cell_type": "code",
   "execution_count": 20,
   "metadata": {
    "collapsed": true
   },
   "outputs": [],
   "source": [
    "# RMSProp \n",
    "# Initialize parameter   \n",
    "W = np.zeros((D_in, D_out)) # weights\n",
    "n = np.zeros((D_in,D_out))\n",
    "gamma =0.9 # decay factor \n",
    "epsilon = 0.001 # in case of the denominator equaling to 0\n",
    "L_RMSProp =[]  # validation loss\n",
    "\n",
    "for t in range(maxIterations):\n",
    "\n",
    "    # Compute loss\n",
    "    train_loss,test_loss ,grad =logisticRegression(W, x_train, y_train, x_test, y_test)\n",
    "    \n",
    "    # Save the values\n",
    "    L_RMSProp.append ( test_loss)\n",
    "    \n",
    "    # Update weights using RMSProp\n",
    "\n",
    "    n = gamma * n + (1-gamma) * np.power(grad,2)\n",
    "    dW = -eta /np.sqrt(n + epsilon ) * grad\n",
    "    W += dW \n",
    "    \n",
    "L_RMSProp=np.array(L_RMSProp)\n",
    "L_RMSProp=L_RMSProp[:,:,0]\n",
    "y_pred_RMSProp_train,training_accuracy_RMSProp =predict(W , x_train, y_train ,threshold)\n",
    "y_pred_RMSProp_test,test_accuracy_RMSProp =predict(W , x_test, y_test ,threshold)"
   ]
  },
  {
   "cell_type": "markdown",
   "metadata": {},
   "source": [
    "AdaDelta :\n",
    "$$E[g^2]_t=\\gamma  E[g^2]_{t-1} + (1-\\gamma)g^2_t$$\n",
    "\n",
    "$$\\Delta W_t=-\\frac{\\sqrt{E[\\Delta W^2]_{t-1}+\\epsilon}}{\\sqrt{E[g^2]_t+\\epsilon}}g_t$$\n",
    "\n",
    "$$W=W+\\Delta W$$\n",
    "\n",
    "$$E[\\Delta W^2_t]_t=\\gamma  E[\\Delta W^2_t]_{t-1} +(1-\\gamma)\\Delta W^2_t$$"
   ]
  },
  {
   "cell_type": "code",
   "execution_count": 21,
   "metadata": {
    "collapsed": true
   },
   "outputs": [],
   "source": [
    "# AdaDelta \n",
    "# Initialize parameter   \n",
    "W = np.zeros((D_in, D_out)) # weights\n",
    "E_g2 = np.zeros_like(W)\n",
    "E_dW2 = np.zeros_like(W)\n",
    "gamma =0.9 # decay factor \n",
    "epsilon = 1e-3# in case of the denominator equaling to 0\n",
    "L_AdaDelta =[]  # validation loss\n",
    "\n",
    "for t in range(maxIterations):\n",
    "\n",
    "    # Compute loss\n",
    "    train_loss,test_loss ,grad =logisticRegression(W, x_train, y_train, x_test, y_test)\n",
    "    \n",
    "    # Save the values\n",
    "    L_AdaDelta.append ( test_loss)\n",
    "    \n",
    "    # Update weights using AdaDelta\n",
    "    E_g2 = gamma * E_g2 + (1-gamma) * np.power(grad,2)\n",
    "    dW = - np.sqrt(E_dW2+epsilon) / np.sqrt(E_g2+epsilon) * grad    \n",
    "    W += dW \n",
    "    E_dW2 = gamma * E_dW2 + (1-gamma) * np.power(dW , 2)\n",
    "    \n",
    "L_AdaDelta=np.array(L_AdaDelta)\n",
    "L_AdaDelta=L_AdaDelta[:,:,0]\n",
    "y_pred_AdaDelta_train,training_accuracy_AdaDelta =predict(W , x_train, y_train ,threshold)\n",
    "y_pred_AdaDelta_test,test_accuracy_AdaDelta =predict(W , x_test, y_test ,threshold)"
   ]
  },
  {
   "cell_type": "markdown",
   "metadata": {},
   "source": [
    "Adam:\n",
    "$$m_t=\\mu * m_{t-1} + (1-\\mu) * g_t$$\n",
    "\n",
    "$$n_t=v*n_{t-1}+(1-v)*g^2_t$$\n",
    "\n",
    "$$\\hat{m_t}=\\frac{m_t}{1-\\mu^t+\\epsilon}$$\n",
    "\n",
    "$$\\hat{n_t}=\\frac{n_t}{1-v^t+\\epsilon}$$\n",
    "\n",
    "$$\\Delta W=-\\frac{\\hat{m_t}}{\\sqrt{\\hat{n_t}}+\\epsilon}*\\eta$$"
   ]
  },
  {
   "cell_type": "code",
   "execution_count": 22,
   "metadata": {
    "collapsed": true
   },
   "outputs": [],
   "source": [
    "# Adam\n",
    "# Initialize parameter   \n",
    "W = np.zeros((D_in, D_out)) # weights\n",
    "n = np.zeros_like(W)\n",
    "m = np.zeros_like(W)\n",
    "mu = 0.9 # the decay factor of m \n",
    "v = 0.9 # the decay factor of n \n",
    "epsilon = 1e-3 # in case of the denominator equalling to 0\n",
    "L_adam=[]  # validation loss\n",
    "\n",
    "for t in range(maxIterations):\n",
    "\n",
    "    # Compute loss\n",
    "    train_loss,test_loss ,grad =logisticRegression(W, x_train, y_train, x_test, y_test)\n",
    "    \n",
    "    # Save the values\n",
    "    L_adam.append ( test_loss)\n",
    "    \n",
    "    # Update weights using RMSProp\n",
    "    m = mu * m + (1-mu) * grad # the first rank moment estimation of gradient\n",
    "    n = v  * n + (1-v) * np.power(grad,2) # the second rank moment estimation of gradient\n",
    "    m_hat = m / (1-np.power(mu,t)+epsilon) \n",
    "    n_hat = n / (1-np.power(v,t)+epsilon)\n",
    "    W -= m_hat * eta /(np.sqrt(n_hat) + epsilon)\n",
    "    \n",
    "L_adam=np.array(L_adam)\n",
    "L_adam=L_adam[:,:,0]\n",
    "y_pred_Adam_train,training_accuracy_Adam =predict(W , x_train, y_train ,threshold)\n",
    "y_pred_Adam_test,test_accuracy_Adam =predict(W , x_test, y_test ,threshold)"
   ]
  },
  {
   "cell_type": "code",
   "execution_count": 23,
   "metadata": {
    "scrolled": true
   },
   "outputs": [
    {
     "data": {
      "image/png": "[encoded data removed]",
      "text/plain": [
       "<matplotlib.figure.Figure at 0x1fe802480f0>"
      ]
     },
     "metadata": {},
     "output_type": "display_data"
    }
   ],
   "source": [
    "# Plot\n",
    "plt.plot(L_NAG,'b',label='L_NAG')\n",
    "plt.plot(L_RMSProp,'g',label='L_RMSProp')\n",
    "plt.plot(L_AdaDelta,'r',label='L_AdaDelta')\n",
    "plt.plot(L_adam,'y',label='L_adam')\n",
    "plt.title('Loss Curve') # give plot a title\n",
    "plt.xlabel('Iterations')# make axis labels\n",
    "plt.ylabel('Loss')\n",
    "plt.legend()\n",
    "plt.show()"
   ]
  },
  {
   "cell_type": "code",
   "execution_count": 24,
   "metadata": {},
   "outputs": [
    {
     "name": "stdout",
     "output_type": "stream",
     "text": [
      "\n",
      "---------Assessment Result---------\n",
      "training accuracy_NAG= 0.7591904425539756 \n",
      "training accuracy_RMSProp= 0.7800128988667424 \n",
      "training accuracy_AdaDelta= 0.761063849390375 \n",
      "training accuracy_Adam= 0.84447652099137\n",
      "\n",
      "---------Predicted Results---------\n",
      "test accuracy_NAG= 0.7637737239727289 \n",
      "test accuracy_RMSProp= 0.7841041705054972 \n",
      "test accuracy_AdaDelta= 0.7651249923223389 \n",
      "test accuracy_Adam= 0.8501934770591487\n"
     ]
    }
   ],
   "source": [
    "print('\\n---------Assessment Result---------\\ntraining accuracy_NAG=',training_accuracy_NAG,\n",
    "      '\\ntraining accuracy_RMSProp=',training_accuracy_RMSProp,\n",
    "      '\\ntraining accuracy_AdaDelta=',training_accuracy_AdaDelta,\n",
    "      '\\ntraining accuracy_Adam=',training_accuracy_Adam)\n",
    "\n",
    "print('\\n---------Predicted Results---------\\ntest accuracy_NAG=',test_accuracy_NAG,\n",
    "      '\\ntest accuracy_RMSProp=',test_accuracy_RMSProp,\n",
    "      '\\ntest accuracy_AdaDelta=',test_accuracy_AdaDelta,\n",
    "      '\\ntest accuracy_Adam=',test_accuracy_Adam)"
   ]
  }
 ],
 "metadata": {
  "kernelspec": {
   "display_name": "Python 3",
   "language": "python",
   "name": "python3"
  },
  "language_info": {
   "codemirror_mode": {
    "name": "ipython",
    "version": 3
   },
   "file_extension": ".py",
   "mimetype": "text/x-python",
   "name": "python",
   "nbconvert_exporter": "python",
   "pygments_lexer": "ipython3",
   "version": "3.6.3"
  }
 },
 "nbformat": 4,
 "nbformat_minor": 2
}
