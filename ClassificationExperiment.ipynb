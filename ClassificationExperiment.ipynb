{
 "cells": [
  {
   "cell_type": "code",
   "execution_count": 1,
   "metadata": {
    "collapsed": true
   },
   "outputs": [],
   "source": [
    "import numpy as np\n",
    "import  random  \n",
    "import matplotlib.pyplot as plt\n",
    "from sklearn.externals.joblib import Memory\n",
    "from sklearn.datasets import load_svmlight_file\n",
    "from sklearn.model_selection import train_test_split"
   ]
  },
  {
   "cell_type": "code",
   "execution_count": 2,
   "metadata": {
    "collapsed": true
   },
   "outputs": [],
   "source": [
    "# Load the experiment data\n",
    "mem = Memory(\"./mycache\")\n",
    "\n",
    "@mem.cache\n",
    "def get_data(path,feature):\n",
    "    data = load_svmlight_file(path,feature)    \n",
    "    return data"
   ]
  },
  {
   "cell_type": "code",
   "execution_count": 3,
   "metadata": {
    "collapsed": true
   },
   "outputs": [],
   "source": [
    "def predict(W , X, y ):\n",
    "    \"\"\"\n",
    "    Inputs:\n",
    "    - W: A numpy array of shape (D, C) containing weights.\n",
    "    - x: A numpy array of shape (N, D) containing a minibatch of training data.\n",
    "    - y: A numpy array of shape (N,) containing training labels; ytrain[i] = c means that xtrain[i] has label c, where 0 <= c <C.\n",
    "   \n",
    "    Returns a tuple of:\n",
    "    - prediction of y\n",
    "    - accuracy of the model\n",
    "    \"\"\"\n",
    "    # the class scores for all examples\n",
    "    score = np.dot(X,W)\n",
    "    # find the index with max score in each column (the predicted class)\n",
    "    y_pred= np.argmax(score, axis = 1)\n",
    "    # and calculate accuracy (fraction of predictions that are correct)\n",
    "    cmp=(y_pred == y)\n",
    "    accuracy=len(cmp[cmp==True])/len(cmp)\n",
    "    \n",
    "    return y_pred,accuracy "
   ]
  },
  {
   "cell_type": "markdown",
   "metadata": {},
   "source": [
    "Loss Function:\n",
    "$$ L= \\frac{1}{N}\\sum_{i}\\sum_{j\\ne y_i}[max(0,f(x_i;W)_j-f(x_i;W)_{y_i}+\\Delta]+\\lambda \\sum_k\\sum_lW^2_{k,l}$$\n",
    "Gradient Matrix:\n",
    "$$ \\frac{\\partial L_i}{\\partial w_{y_i}}=-(\\sum_{y \\ne y_i}1(w^T_jx_i-w^T_{y_i}x_i+\\Delta>0))x_i \\quad \\quad (j=y_i)$$\n",
    "$$ \\frac{\\partial L_i}{\\partial w_j}=1(w^T_jx_i-w^T_{y_i}x_i+\\Delta>0))x_i \\quad \\quad \\quad \\quad (j\\ne y_i)$$\n",
    "where l(x) is an indicator function：\n",
    "$$l(x==T)=1$$\n",
    "$$l(x==F)=0$$"
   ]
  },
  {
   "cell_type": "code",
   "execution_count": 4,
   "metadata": {
    "collapsed": true
   },
   "outputs": [],
   "source": [
    "def svm(W, xtrain, ytrain, xtest, ytest, reg):\n",
    "  \"\"\"\n",
    "  Inputs:\n",
    "  - W: A numpy array of shape (D, C) containing weights.\n",
    "  - xtrain: A numpy array of shape (num_train, D) containing a minibatch of training data.\n",
    "  - ytrain: A numpy array of shape (num_train,) containing training labels; ytrain[i] = c means that xtrain[i] has label c, where 0 <= c <C.\n",
    "  - xtest: A numpy array of shape (num_test, D) containing a minibatch of test data.\n",
    "  - ytest: A numpy array of shape (num_test,) containing test labels\n",
    "  - reg: (float) regularization strength\n",
    "  \n",
    "  Returns a tuple of:\n",
    "  - train_loss as single float\n",
    "  - test_loss as single float\n",
    "  - gradient with respect to weights W; an array of same shape as W\n",
    "  \"\"\"\n",
    "  dW = np.zeros(W.shape) # initialize the gradient as zero  \n",
    "  num_classes = W.shape[1]\n",
    "\n",
    "  #train \n",
    "  train_loss = 0\n",
    "  scores_train = xtrain.dot(W)  # num_train by C\n",
    "  num_train = xtrain.shape[0]\n",
    "  scores_train_correct = scores_train[np.arange(num_train), ytrain] # 1 by num_train\n",
    "  scores_train_correct = np.reshape(scores_train_correct, (num_train, 1)) # num_train by 1\n",
    "  margins_train = scores_train - scores_train_correct + 1.0 # num_train by C\n",
    "  margins_train[np.arange(num_train), ytrain] = 0.0 \n",
    "  margins_train[margins_train <= 0] = 0.0\n",
    "  train_loss += np.sum(margins_train) / num_train\n",
    "  train_loss += 0.5 * reg * np.sum(W * W) \n",
    "  margins_train[margins_train > 0] = 1.0                       \n",
    "  row_sum = np.sum(margins_train, axis=1)                  # 1 by num_train\n",
    "  margins_train[np.arange(num_train), ytrain] = -row_sum        \n",
    "\n",
    "  gradNum =20 #number of choosed partial samples.\n",
    "  ind=random.sample(range(0,num_train),gradNum)  \n",
    "  xtrain_batch=xtrain[ind,:]\n",
    "  margins_train_batch=margins_train[ind,:]\n",
    "  dW += np.dot(xtrain_batch.T, margins_train_batch)/gradNum + reg * W     # D by C\n",
    "  #test\n",
    "  test_loss = 0\n",
    "  scores_test = xtest.dot(W)  # num_test by C\n",
    "  num_test = xtest.shape[0]\n",
    "  scores_test_correct = scores_test[np.arange(num_test), ytest] # 1 by N\n",
    "  scores_test_correct = np.reshape(scores_test_correct, (num_test, 1)) # N by 1\n",
    "  margins_test = scores_test - scores_test_correct + 1.0 # N by C\n",
    "  margins_test[np.arange(num_test), ytest] = 0.0 \n",
    "  margins_test[margins_test <= 0] = 0.0\n",
    "  test_loss += np.sum(margins_test) / num_test\n",
    "  test_loss += 0.5 * reg * np.sum(W * W)\n",
    "\n",
    "  return train_loss, test_loss, dW\n"
   ]
  },
  {
   "cell_type": "code",
   "execution_count": 5,
   "metadata": {
    "collapsed": true
   },
   "outputs": [],
   "source": [
    "# Data preparation  \n",
    "data = get_data(path=\"D:\\研一\\课件\\深度学习\\libsvm-3.22\\A9a_trainingData\",feature=123)\n",
    "\n",
    "# Data preprocessing\n",
    "x_train=data[0].toarray()\n",
    "x_train=np.column_stack((x_train,np.ones([x_train.shape[0],1]))) #add bias \n",
    "y_train=data[1]\n",
    "C=len(list(set(y_train))) # total number of labels\n",
    "y_train=y_train.astype(np.int)  # float->int\n",
    "y_train[y_train== -1]=0\n",
    "N,D  =x_train.shape\n",
    "\n",
    "\n",
    "# Data preparation  \n",
    "data = get_data(path=\"D:\\研一\\课件\\深度学习\\libsvm-3.22\\A9a_testData\",feature=123)\n",
    "\n",
    "# Data preprocessing\n",
    "x_test=data[0].toarray()\n",
    "x_test=np.column_stack((x_test,np.ones([x_test.shape[0],1]))) #add bias \n",
    "y_test=data[1]\n",
    "y_test=y_test.astype(np.int)  # float->int\n",
    "y_test[y_test== -1]=0\n"
   ]
  },
  {
   "cell_type": "code",
   "execution_count": 6,
   "metadata": {
    "collapsed": true
   },
   "outputs": [],
   "source": [
    "# Initialize parameter   \n",
    "maxIterations=200\n",
    "eta = 1e-3 # learning rate"
   ]
  },
  {
   "cell_type": "markdown",
   "metadata": {},
   "source": [
    "NAG :\n",
    "$$d_{t}=\\gamma * d_{t-1} + g_{t-1} + \\gamma * (g_{t-1}-g_{t-2}) $$\n",
    "\n",
    "$$ \\Delta W= -\\eta*d_t$$\n",
    "\n",
    "$$ W_t=W_{t-1}+ \\Delta W$$"
   ]
  },
  {
   "cell_type": "code",
   "execution_count": 7,
   "metadata": {
    "collapsed": true
   },
   "outputs": [],
   "source": [
    "# NAG\n",
    "# Initialize parameter   \n",
    "W = np.zeros((D, C)) # weights\n",
    "pre_d = np.zeros_like(W)\n",
    "pre_grad = np.zeros_like(W)\n",
    "gamma =0.9 # momentum factor \n",
    "L_NAG =[]; # validation loss\n",
    "for t in range(maxIterations):\n",
    "    \n",
    "    # Compute loss\n",
    "    train_loss,test_loss ,grad =svm(W, x_train, y_train, x_test, y_test, reg=0.1)\n",
    "    \n",
    "    # Save the values\n",
    "    L_NAG.append ( test_loss)\n",
    "    \n",
    "    # Update weights using Nesterov Accelerated Gradient(NAG)\n",
    "    d  = gamma * pre_d  + grad + gamma * (grad - pre_grad)\n",
    "    dW = -eta * d\n",
    "    W += dW \n",
    "    pre_d = d\n",
    "    pre_grad = grad\n",
    "    \n",
    "L_NAG=np.array(L_NAG)\n",
    "#Predicted Result\n",
    "y_pred_NAG_train,training_accuracy_NAG = predict(W , x_train, y_train )\n",
    "y_pred_NAG_test,test_accuracy_NAG = predict(W , x_test, y_test )\n"
   ]
  },
  {
   "cell_type": "markdown",
   "metadata": {},
   "source": [
    "RMSProp :\n",
    "$$n_{t}=\\gamma * n_{t-1} + (1- \\gamma ) * g^2_t $$\n",
    "\n",
    "$$ \\Delta W= \\frac {-\\eta}{\\sqrt{n_t+\\epsilon}}*g_t$$\n",
    "\n",
    "$$ W=W+\\Delta W$$"
   ]
  },
  {
   "cell_type": "code",
   "execution_count": 8,
   "metadata": {
    "collapsed": true
   },
   "outputs": [],
   "source": [
    "# RMSProp \n",
    "# Initialize parameter   \n",
    "W = np.zeros((D, C)) # weights\n",
    "n = np.zeros_like(W)\n",
    "gamma =0.9 # decay factor \n",
    "epsilon = 0.001 # in case of the denominator equalling to 0\n",
    "L_RMSProp =[]  # validation loss\n",
    "\n",
    "for t in range(maxIterations):\n",
    "\n",
    "    # Compute loss\n",
    "    train_loss,test_loss ,grad =svm(W, x_train, y_train, x_test, y_test, reg=0.1)\n",
    "    \n",
    "    # Save the values\n",
    "    L_RMSProp.append ( test_loss)\n",
    "    \n",
    "    # Update weights using RMSProp\n",
    "\n",
    "    n = gamma * n + (1-gamma) * np.power(grad,2)\n",
    "    dW = -eta /np.sqrt(n + epsilon ) * grad\n",
    "    W += dW \n",
    "    \n",
    "L_RMSProp=np.array(L_RMSProp)\n",
    "#Predicted Result\n",
    "y_pred_RMSProp_train,training_accuracy_RMSProp = predict(W , x_train, y_train )\n",
    "y_pred_RMSProp_test,test_accuracy_RMSProp = predict(W , x_test, y_test )"
   ]
  },
  {
   "cell_type": "markdown",
   "metadata": {},
   "source": [
    "AdaDelta :\n",
    "$$E[g^2]_t=\\gamma  E[g^2]_{t-1} + (1-\\gamma)g^2_t$$\n",
    "\n",
    "$$\\Delta W_t=-\\frac{\\sqrt{E[\\Delta W^2]_{t-1}+\\epsilon}}{\\sqrt{E[g^2]_t+\\epsilon}}g_t$$\n",
    "\n",
    "$$W=W+\\Delta W$$\n",
    "\n",
    "$$E[\\Delta W^2_t]_t=\\gamma  E[\\Delta W^2_t]_{t-1} +(1-\\gamma)\\Delta W^2_t$$"
   ]
  },
  {
   "cell_type": "code",
   "execution_count": 9,
   "metadata": {
    "collapsed": true
   },
   "outputs": [],
   "source": [
    "# AdaDelta \n",
    "# Initialize parameter   \n",
    "W = np.zeros((D, C)) # weights\n",
    "E_g2 = np.zeros_like(W)\n",
    "E_dW2 = np.zeros_like(W)\n",
    "gamma =0.8 # decay factor \n",
    "epsilon = 1e-6# in case of the denominator equalling to 0\n",
    "L_AdaDelta =[]  # validation loss\n",
    "\n",
    "for t in range(maxIterations):\n",
    "\n",
    "    # Compute loss\n",
    "    train_loss,test_loss ,grad =svm(W, x_train, y_train, x_test, y_test, reg=0.1)\n",
    "    \n",
    "    # Save the values\n",
    "    L_AdaDelta.append ( test_loss)\n",
    "    \n",
    "    # Update weights using AdaDelta\n",
    "    E_g2 = gamma * E_g2 + (1-gamma) * np.power(grad,2)\n",
    "    dW = - np.sqrt(E_dW2+epsilon) / np.sqrt(E_g2+epsilon) * grad    \n",
    "    W += dW \n",
    "    E_dW2 = gamma * E_dW2 + (1-gamma) * np.power(dW , 2)\n",
    "    \n",
    "L_AdaDelta=np.array(L_AdaDelta)\n",
    "#Predicted Result\n",
    "y_pred_AdaDelta_train,training_accuracy_AdaDelta = predict(W , x_train, y_train )\n",
    "y_pred_AdaDelta_test,test_accuracy_AdaDelta= predict(W , x_test, y_test )"
   ]
  },
  {
   "cell_type": "markdown",
   "metadata": {},
   "source": [
    "Adam:\n",
    "$$m_t=\\mu * m_{t-1} + (1-\\mu) * g_t$$\n",
    "\n",
    "$$n_t=v*n_{t-1}+(1-v)*g^2_t$$\n",
    "\n",
    "$$\\hat{m_t}=\\frac{m_t}{1-\\mu^t+\\epsilon}$$\n",
    "\n",
    "$$\\hat{n_t}=\\frac{n_t}{1-v^t+\\epsilon}$$\n",
    "\n",
    "$$\\Delta W=-\\frac{\\hat{m_t}}{\\sqrt{\\hat{n_t}}+\\epsilon}*\\eta$$"
   ]
  },
  {
   "cell_type": "code",
   "execution_count": 10,
   "metadata": {
    "collapsed": true
   },
   "outputs": [],
   "source": [
    "# Adam\n",
    "# Initialize parameter   \n",
    "W = np.zeros((D, C)) # weights\n",
    "n = np.zeros_like(W)\n",
    "m = np.zeros_like(W)\n",
    "mu = 0.9\n",
    "v = 0.9\n",
    "epsilon = 1e-3 # in case of the denominator equalling to 0\n",
    "L_adam=[]  # validation loss\n",
    "\n",
    "for t in range(maxIterations):\n",
    "\n",
    "    # Compute loss\n",
    "    train_loss,test_loss ,grad =svm(W, x_train, y_train, x_test, y_test, reg=0.1)\n",
    "    \n",
    "    # Save the values\n",
    "    L_adam.append ( test_loss)\n",
    "    \n",
    "    # Update weights using RMSProp\n",
    "    m = mu * m + (1-mu) * grad\n",
    "    n = v  * n + (1-v) * np.power(grad,2)\n",
    "    m_hat = m / (1-np.power(mu,t)+epsilon) \n",
    "    n_hat = n / (1-np.power(v,t)+epsilon)\n",
    "    W -= m_hat * eta /(np.sqrt(n_hat) + epsilon)\n",
    "    \n",
    "L_adam=np.array(L_adam)\n",
    "#Predicted Result\n",
    "y_pred_Adam_train,training_accuracy_Adam = predict(W , x_train, y_train )\n",
    "y_pred_Adam_test,test_accuracy_Adam = predict(W , x_test, y_test )"
   ]
  },
  {
   "cell_type": "code",
   "execution_count": 11,
   "metadata": {
    "scrolled": true
   },
   "outputs": [
    {
     "data": {
      "image/png": "[encoded data removed]",
      "text/plain": [
       "<matplotlib.figure.Figure at 0x22b477713c8>"
      ]
     },
     "metadata": {},
     "output_type": "display_data"
    }
   ],
   "source": [
    "# Plot\n",
    "plt.plot(L_NAG,'b',label='L_NAG')\n",
    "plt.plot(L_RMSProp,'g',label='L_RMSProp')\n",
    "plt.plot(L_AdaDelta,'r',label='L_AdaDelta')\n",
    "plt.plot(L_adam,'y',label='L_adam')\n",
    "plt.title('Error Curve') # give plot a title\n",
    "plt.xlabel('iterations')# make axis labels\n",
    "plt.ylabel('error')\n",
    "plt.legend()\n",
    "plt.show()"
   ]
  },
  {
   "cell_type": "code",
   "execution_count": 12,
   "metadata": {},
   "outputs": [
    {
     "name": "stdout",
     "output_type": "stream",
     "text": [
      "\n",
      "---------Assessment Result---------\n",
      "training accuracy_NAG= 0.7605724639906637 \n",
      "training accuracy_RMSProp= 0.7591904425539756 \n",
      "training accuracy_AdaDelta= 0.7942323638708885 \n",
      "training accuracy_Adam= 0.7638893154387151\n",
      "\n",
      "---------Predicted Results---------\n",
      "test accuracy_NAG= 0.7646950433020084 \n",
      "test accuracy_RMSProp= 0.7637737239727289 \n",
      "test accuracy_AdaDelta= 0.7976782752902156 \n",
      "test accuracy_Adam= 0.7679503715987961\n"
     ]
    }
   ],
   "source": [
    "print('\\n---------Assessment Result---------\\ntraining accuracy_NAG=',training_accuracy_NAG,\n",
    "      '\\ntraining accuracy_RMSProp=',training_accuracy_RMSProp,\n",
    "      '\\ntraining accuracy_AdaDelta=',training_accuracy_AdaDelta,\n",
    "      '\\ntraining accuracy_Adam=',training_accuracy_Adam)\n",
    "\n",
    "print('\\n---------Predicted Results---------\\ntest accuracy_NAG=',test_accuracy_NAG,\n",
    "      '\\ntest accuracy_RMSProp=',test_accuracy_RMSProp,\n",
    "      '\\ntest accuracy_AdaDelta=',test_accuracy_AdaDelta,\n",
    "      '\\ntest accuracy_Adam=',test_accuracy_Adam)"
   ]
  }
 ],
 "metadata": {
  "kernelspec": {
   "display_name": "Python 3",
   "language": "python",
   "name": "python3"
  },
  "language_info": {
   "codemirror_mode": {
    "name": "ipython",
    "version": 3
   },
   "file_extension": ".py",
   "mimetype": "text/x-python",
   "name": "python",
   "nbconvert_exporter": "python",
   "pygments_lexer": "ipython3",
   "version": "3.6.3"
  }
 },
 "nbformat": 4,
 "nbformat_minor": 2
}
